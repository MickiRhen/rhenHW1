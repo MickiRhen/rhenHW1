{
 "cells": [
  {
   "cell_type": "markdown",
   "metadata": {
    "Collapsed": "false"
   },
   "source": [
    "# Micki Rhen HW1 - Classification models in sklearn\n",
    "\n",
    "The goal of homework 1 is to build a classifier model to predict political party using other variables"
   ]
  },
  {
   "cell_type": "markdown",
   "metadata": {
    "Collapsed": "false",
    "tags": []
   },
   "source": [
    "## Preliminaries"
   ]
  },
  {
   "cell_type": "code",
   "execution_count": 4,
   "metadata": {
    "Collapsed": "false"
   },
   "outputs": [
    {
     "name": "stdout",
     "output_type": "stream",
     "text": [
      "The autoreload extension is already loaded. To reload it, use:\n",
      "  %reload_ext autoreload\n"
     ]
    }
   ],
   "source": [
    "# To auto-reload modules in jupyter notebook (so that changes in files *.py doesn't require manual reloading):\n",
    "# https://stackoverflow.com/questions/5364050/reloading-submodules-in-ipython\n",
    "%load_ext autoreload\n",
    "%autoreload 2"
   ]
  },
  {
   "cell_type": "markdown",
   "metadata": {
    "Collapsed": "false"
   },
   "source": [
    "Import commonly used libraries and magic command for inline plotting"
   ]
  },
  {
   "cell_type": "code",
   "execution_count": 5,
   "metadata": {
    "Collapsed": "false"
   },
   "outputs": [],
   "source": [
    "import numpy as np\n",
    "import pandas as pd\n",
    "import matplotlib.pyplot as plt\n",
    "import seaborn as sns\n"
   ]
  },
  {
   "cell_type": "code",
   "execution_count": 6,
   "metadata": {
    "tags": []
   },
   "outputs": [],
   "source": [
    "%matplotlib inline"
   ]
  },
  {
   "cell_type": "markdown",
   "metadata": {
    "Collapsed": "false",
    "tags": []
   },
   "source": [
    "## The Initial Tasks"
   ]
  },
  {
   "cell_type": "markdown",
   "metadata": {
    "Collapsed": "false",
    "tags": []
   },
   "source": [
    "### Task 1 - Create project folder structure"
   ]
  },
  {
   "cell_type": "markdown",
   "metadata": {
    "tags": []
   },
   "source": [
    "Task 1 involved creating a new project folder structure with the cookiecutter-datascience-simple template which was introduced in Module 1.\n",
    "\n",
    "\n",
    "The following script was run from the directory of this new project 'rhenhw1':\n",
    "\n",
    "cookiecutter https://github.com/misken/cookiecutter-datascience-simple"
   ]
  },
  {
   "cell_type": "markdown",
   "metadata": {
    "tags": []
   },
   "source": [
    "![check](images/check.PNG)"
   ]
  },
  {
   "cell_type": "markdown",
   "metadata": {},
   "source": [
    "### Task 2 - Put the new project folder under version control using git"
   ]
  },
  {
   "cell_type": "markdown",
   "metadata": {
    "tags": []
   },
   "source": [
    "After moving the supplied data to ...\\data\\raw, the initial version control was implemented using the following commands:\n",
    "    \n",
    "    * git add *.ipynb\n",
    "    * git add docs/*.md\n",
    "    * git add .gitignore\n",
    "    * git commit -m 'initial commit'\n",
    "    \n",
    "A new repository was created online for rhenhw1 and GitHub desktop was used to push the committed files to this repository\n",
    "\n",
    "Adds and commits should be done periodically to backup work as it is being produced.  Other types of files (.py, etc) may be added at these later times"
   ]
  },
  {
   "cell_type": "markdown",
   "metadata": {},
   "source": [
    "![check](images/check.PNG)"
   ]
  },
  {
   "cell_type": "markdown",
   "metadata": {
    "Collapsed": "false",
    "tags": []
   },
   "source": [
    "## The Real Work\n",
    "\n",
    "Build at least one logistic regression model (with regularization) and one random forest model to predict PoliticalParty."
   ]
  },
  {
   "cell_type": "raw",
   "metadata": {},
   "source": [
    "While not required, I decided to follow your lead and explore the data by reading it into a pandas dataframe"
   ]
  }
 ],
 "metadata": {
  "kernelspec": {
   "display_name": "Python 3",
   "language": "python",
   "name": "python3"
  },
  "language_info": {
   "codemirror_mode": {
    "name": "ipython",
    "version": 3
   },
   "file_extension": ".py",
   "mimetype": "text/x-python",
   "name": "python",
   "nbconvert_exporter": "python",
   "pygments_lexer": "ipython3",
   "version": "3.7.10"
  },
  "toc-autonumbering": true
 },
 "nbformat": 4,
 "nbformat_minor": 4
}
